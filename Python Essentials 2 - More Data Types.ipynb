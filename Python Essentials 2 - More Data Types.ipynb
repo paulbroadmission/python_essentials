{
  "cells": [
    {
      "cell_type": "markdown",
      "metadata": {
        "id": "Vxo9ZHwvNSna"
      },
      "source": [
        "# Python Essentials by Paul Chao#\n",
        "## More Data Types 2 ##"
      ]
    },
    {
      "cell_type": "markdown",
      "metadata": {
        "id": "bPhmDTTbNSnb"
      },
      "source": [
        "## Strings 字串 ##"
      ]
    },
    {
      "cell_type": "code",
      "execution_count": null,
      "metadata": {
        "collapsed": true,
        "id": "hUj-xz8XNSnc"
      },
      "outputs": [],
      "source": [
        "a = \"Hello\""
      ]
    },
    {
      "cell_type": "markdown",
      "metadata": {
        "id": "RtBF0g1wNSnc"
      },
      "source": [
        "![](https://www.tutorialspoint.com/cprogramming/images/string_representation.jpg)"
      ]
    },
    {
      "cell_type": "code",
      "execution_count": null,
      "metadata": {
        "id": "jKm96o_jNSnd",
        "outputId": "e4b518a1-4170-48a7-90e8-0148bae0bde4"
      },
      "outputs": [
        {
          "data": {
            "text/plain": [
              "5"
            ]
          },
          "execution_count": 7,
          "metadata": {},
          "output_type": "execute_result"
        }
      ],
      "source": [
        "len(a)"
      ]
    },
    {
      "cell_type": "code",
      "execution_count": null,
      "metadata": {
        "id": "2K1gge5UNSnd",
        "outputId": "cf2c3cf7-259b-461a-f82e-df39297c8eb8"
      },
      "outputs": [
        {
          "data": {
            "text/plain": [
              "'HELLO'"
            ]
          },
          "execution_count": 8,
          "metadata": {},
          "output_type": "execute_result"
        }
      ],
      "source": [
        "a.upper()"
      ]
    },
    {
      "cell_type": "code",
      "execution_count": null,
      "metadata": {
        "id": "QUJ2K5ISNSnd",
        "outputId": "44f11348-1fc3-4ab7-ccb2-9190f0b2ef5a"
      },
      "outputs": [
        {
          "name": "stdout",
          "output_type": "stream",
          "text": [
            "hello\n"
          ]
        }
      ],
      "source": [
        "b = a.lower() ; print (b)"
      ]
    },
    {
      "cell_type": "code",
      "execution_count": null,
      "metadata": {
        "id": "SD6gGBZbNSne",
        "outputId": "d14d4785-64bc-41b6-e7e9-33b7ba73b4f7"
      },
      "outputs": [
        {
          "data": {
            "text/plain": [
              "'Hello'"
            ]
          },
          "execution_count": 13,
          "metadata": {},
          "output_type": "execute_result"
        }
      ],
      "source": [
        "b.capitalize()"
      ]
    },
    {
      "cell_type": "code",
      "execution_count": null,
      "metadata": {
        "id": "pZARyDwDNSne",
        "outputId": "a44e5685-f938-475a-e191-a60abe036c56"
      },
      "outputs": [
        {
          "data": {
            "text/plain": [
              "'Hello world!'"
            ]
          },
          "execution_count": 14,
          "metadata": {},
          "output_type": "execute_result"
        }
      ],
      "source": [
        "a + \" world!\""
      ]
    },
    {
      "cell_type": "code",
      "execution_count": null,
      "metadata": {
        "id": "yci8OGZaNSne",
        "outputId": "85bbb304-be06-45ff-85fa-bb3ddcbc2a7c"
      },
      "outputs": [
        {
          "data": {
            "text/plain": [
              "'Hello Kitty'"
            ]
          },
          "execution_count": 15,
          "metadata": {},
          "output_type": "execute_result"
        }
      ],
      "source": [
        "c = \" Kitty\"\n",
        "a + c"
      ]
    },
    {
      "cell_type": "code",
      "execution_count": null,
      "metadata": {
        "id": "goqmIN7RNSnf",
        "outputId": "e590d356-6cff-4a84-ed12-bc5192ee2cce"
      },
      "outputs": [
        {
          "data": {
            "text/plain": [
              "'HelloHelloHelloHelloHello'"
            ]
          },
          "execution_count": 16,
          "metadata": {},
          "output_type": "execute_result"
        }
      ],
      "source": [
        "5 * a"
      ]
    },
    {
      "cell_type": "code",
      "execution_count": null,
      "metadata": {
        "id": "mCh5e2cxNSnf",
        "outputId": "92415053-3415-4a60-e8d5-bc7f40063f4a"
      },
      "outputs": [
        {
          "data": {
            "text/plain": [
              "'H'"
            ]
          },
          "execution_count": 17,
          "metadata": {},
          "output_type": "execute_result"
        }
      ],
      "source": [
        "a[0]"
      ]
    },
    {
      "cell_type": "code",
      "execution_count": null,
      "metadata": {
        "id": "A24s4Ph2NSnf",
        "outputId": "78681b65-8784-4849-c38c-331f7ce96a88"
      },
      "outputs": [
        {
          "name": "stdout",
          "output_type": "stream",
          "text": [
            "Hello\t World\n",
            "Kitty!\n"
          ]
        }
      ],
      "source": [
        "a = 'Hello\\t World\\nKitty!'\n",
        "print(a)"
      ]
    },
    {
      "cell_type": "code",
      "execution_count": null,
      "metadata": {
        "id": "-jBzmq7JNSnf",
        "outputId": "a6bac129-e924-47b2-f30c-63edc8657c84"
      },
      "outputs": [
        {
          "name": "stdout",
          "output_type": "stream",
          "text": [
            "Today is a good day.\n",
            "So I want to say\n",
            "Hello World Kitty!\n",
            "\n"
          ]
        }
      ],
      "source": [
        "a = '''Today is a good day.\n",
        "So I want to say\n",
        "Hello World Kitty!\n",
        "'''\n",
        "print(a)"
      ]
    },
    {
      "cell_type": "markdown",
      "metadata": {
        "id": "o2s--jS-NSnf"
      },
      "source": [
        "### Fun Time 來玩玩字串 ###"
      ]
    },
    {
      "cell_type": "code",
      "execution_count": null,
      "metadata": {
        "collapsed": true,
        "id": "zgAFNdCjNSng"
      },
      "outputs": [],
      "source": [
        "a = input()"
      ]
    },
    {
      "cell_type": "code",
      "execution_count": null,
      "metadata": {
        "id": "secMFzUDNSng",
        "outputId": "619c0240-8613-4260-ad06-60bf15b32208"
      },
      "outputs": [
        {
          "name": "stdout",
          "output_type": "stream",
          "text": [
            "請輸入:輸入字串\n",
            "輸入字串\n"
          ]
        }
      ],
      "source": [
        "a = input(\"請輸入:\")\n",
        "print(a)"
      ]
    },
    {
      "cell_type": "markdown",
      "metadata": {
        "id": "dytkFVFpNSng"
      },
      "source": [
        "### Fun Quiz 1  - 玩玩字串1 : ###\n",
        "\n",
        "試試看輸入自己的名字，並且把自己名字的字串印出來\n",
        "\n",
        "自己試試看喔\n",
        "\n",
        "------------------"
      ]
    },
    {
      "cell_type": "code",
      "execution_count": null,
      "metadata": {
        "id": "kp2HBackNSng",
        "outputId": "f7cbfa26-29c3-4898-a4d4-553595d491e9"
      },
      "outputs": [
        {
          "name": "stdout",
          "output_type": "stream",
          "text": [
            "輸入名字:Paul Chao\n",
            "我的名字是: Paul Chao\n"
          ]
        }
      ],
      "source": [
        "name = input(\"輸入名字:\")\n",
        "print(\"我的名字是:\", name)"
      ]
    },
    {
      "cell_type": "markdown",
      "metadata": {
        "id": "5ACotgbENSng"
      },
      "source": [
        "### Fun Quiz 2 - 玩玩字串2 : ###\n",
        "\n",
        "再試試看分兩次輸入，先輸入自己的姓、再輸入自己的名字，並且把自己姓名全部印出來\n",
        "\n",
        "自己試試看喔...\n",
        "\n",
        "-------------------------"
      ]
    },
    {
      "cell_type": "code",
      "execution_count": null,
      "metadata": {
        "id": "a_nKRPMCNSng",
        "outputId": "1116c777-1545-4012-8c57-048aec390034"
      },
      "outputs": [
        {
          "name": "stdout",
          "output_type": "stream",
          "text": [
            "輸入姓:王\n",
            "輸入名小明\n",
            "我的名字是: 王小明\n"
          ]
        }
      ],
      "source": [
        "surname = input(\"輸入姓:\")\n",
        "name = input(\"輸入名\")\n",
        "print(\"我的名字是:\", surname+name)"
      ]
    },
    {
      "cell_type": "markdown",
      "metadata": {
        "id": "0OtumPWdNSnh"
      },
      "source": [
        "## List 列表##"
      ]
    },
    {
      "cell_type": "code",
      "execution_count": null,
      "metadata": {
        "collapsed": true,
        "id": "tb2vv8mXNSnh"
      },
      "outputs": [],
      "source": [
        "list = ['a','b','c','d','e']"
      ]
    },
    {
      "cell_type": "code",
      "execution_count": null,
      "metadata": {
        "id": "1515TRinNSnh",
        "outputId": "eb4bc6af-775a-423f-f86d-e1f1211f5a1e"
      },
      "outputs": [
        {
          "data": {
            "text/plain": [
              "['a', 'b', 'c', 'd', 'e']"
            ]
          },
          "execution_count": 2,
          "metadata": {},
          "output_type": "execute_result"
        }
      ],
      "source": [
        "list"
      ]
    },
    {
      "cell_type": "code",
      "execution_count": null,
      "metadata": {
        "id": "sRIfd2ueNSnh",
        "outputId": "dab682e6-a24f-4619-fadb-be598d82e01b"
      },
      "outputs": [
        {
          "data": {
            "text/plain": [
              "5"
            ]
          },
          "execution_count": 3,
          "metadata": {},
          "output_type": "execute_result"
        }
      ],
      "source": [
        "len(list)"
      ]
    },
    {
      "cell_type": "code",
      "execution_count": null,
      "metadata": {
        "id": "VCHmTwuONSnh",
        "outputId": "69293127-61b9-42e1-8c28-4113eeaa139a"
      },
      "outputs": [
        {
          "data": {
            "text/plain": [
              "'a'"
            ]
          },
          "execution_count": 4,
          "metadata": {},
          "output_type": "execute_result"
        }
      ],
      "source": [
        "list[0]"
      ]
    },
    {
      "cell_type": "code",
      "execution_count": null,
      "metadata": {
        "id": "FPI9jJ8NNSnh",
        "outputId": "deb40559-9ba2-41db-f645-f536095b3a93"
      },
      "outputs": [
        {
          "data": {
            "text/plain": [
              "'e'"
            ]
          },
          "execution_count": 5,
          "metadata": {},
          "output_type": "execute_result"
        }
      ],
      "source": [
        "list[4]"
      ]
    },
    {
      "cell_type": "code",
      "execution_count": null,
      "metadata": {
        "id": "qVHby8-bNSnh",
        "outputId": "9ea685e8-a271-483b-bf81-d6a59574705e"
      },
      "outputs": [
        {
          "data": {
            "text/plain": [
              "['a', 'b', 'c']"
            ]
          },
          "execution_count": 6,
          "metadata": {},
          "output_type": "execute_result"
        }
      ],
      "source": [
        "list[0:3]"
      ]
    },
    {
      "cell_type": "code",
      "execution_count": null,
      "metadata": {
        "id": "0elcLmnTNSnh",
        "outputId": "e8d53151-9e89-413a-99aa-2ed3f2748491"
      },
      "outputs": [
        {
          "name": "stdout",
          "output_type": "stream",
          "text": [
            "['a', 'b', 'c', 'd', 'e', 'f']\n"
          ]
        }
      ],
      "source": [
        "list.append('f')\n",
        "print (list)"
      ]
    },
    {
      "cell_type": "code",
      "execution_count": null,
      "metadata": {
        "id": "2E8ots0pNSnh",
        "outputId": "8a88aa5f-3268-487c-af6d-613c3a4c10b7"
      },
      "outputs": [
        {
          "name": "stdout",
          "output_type": "stream",
          "text": [
            "['a', 'b', 'c', 'd', 'e', 'f', 'z']\n"
          ]
        }
      ],
      "source": [
        "list.append('z')\n",
        "print (list)"
      ]
    },
    {
      "cell_type": "code",
      "execution_count": null,
      "metadata": {
        "id": "bP4hKm8mNSnh",
        "outputId": "5f3c822d-29e2-4bb2-c7c0-e63d35fe4229"
      },
      "outputs": [
        {
          "name": "stdout",
          "output_type": "stream",
          "text": [
            "['a', 'b', 'c', 'd', 'e', 'f', 'z', 'f']\n"
          ]
        }
      ],
      "source": [
        "list.append('f')\n",
        "print (list)"
      ]
    },
    {
      "cell_type": "code",
      "execution_count": null,
      "metadata": {
        "id": "UsCQVkxuNSnh",
        "outputId": "d2b1815c-b93d-434a-e900-fd7d9557069b"
      },
      "outputs": [
        {
          "name": "stdout",
          "output_type": "stream",
          "text": [
            "['a', 'b', 'c', 'd', 'e', 'f', 'f', 'z']\n"
          ]
        }
      ],
      "source": [
        "list.sort()\n",
        "print (list)"
      ]
    },
    {
      "cell_type": "code",
      "execution_count": null,
      "metadata": {
        "id": "cjjfwHn2NSni",
        "outputId": "81d0a78a-110f-48d3-cabc-9130db78eae9"
      },
      "outputs": [
        {
          "name": "stdout",
          "output_type": "stream",
          "text": [
            "['z', 'f', 'f', 'e', 'd', 'c', 'b', 'a']\n"
          ]
        }
      ],
      "source": [
        "list.sort(reverse=True)\n",
        "print (list)"
      ]
    },
    {
      "cell_type": "code",
      "execution_count": null,
      "metadata": {
        "id": "XiV86O7SNSni",
        "outputId": "58efd2b3-c34e-4258-a8ed-a1779b1fecc5"
      },
      "outputs": [
        {
          "data": {
            "text/plain": [
              "2"
            ]
          },
          "execution_count": 13,
          "metadata": {},
          "output_type": "execute_result"
        }
      ],
      "source": [
        "list.count('f')"
      ]
    },
    {
      "cell_type": "markdown",
      "source": [
        "補充: 其實字串也可以將字元排序"
      ],
      "metadata": {
        "id": "RNQZHCgPkWCc"
      }
    },
    {
      "cell_type": "code",
      "source": [
        "a = \"hello\"\n",
        "a.sort() #字串沒有 sort()"
      ],
      "metadata": {
        "id": "ddEKGP83kkt4",
        "outputId": "76042619-09aa-4ce1-d6dc-7aba66a872a5",
        "colab": {
          "base_uri": "https://localhost:8080/",
          "height": 190
        }
      },
      "execution_count": 15,
      "outputs": [
        {
          "output_type": "error",
          "ename": "AttributeError",
          "evalue": "ignored",
          "traceback": [
            "\u001b[0;31m---------------------------------------------------------------------------\u001b[0m",
            "\u001b[0;31mAttributeError\u001b[0m                            Traceback (most recent call last)",
            "\u001b[0;32m<ipython-input-15-304d32201415>\u001b[0m in \u001b[0;36m<module>\u001b[0;34m()\u001b[0m\n\u001b[1;32m      1\u001b[0m \u001b[0ma\u001b[0m \u001b[0;34m=\u001b[0m \u001b[0;34m\"hello\"\u001b[0m\u001b[0;34m\u001b[0m\u001b[0;34m\u001b[0m\u001b[0m\n\u001b[0;32m----> 2\u001b[0;31m \u001b[0ma\u001b[0m\u001b[0;34m.\u001b[0m\u001b[0msort\u001b[0m\u001b[0;34m(\u001b[0m\u001b[0;34m)\u001b[0m\u001b[0;34m\u001b[0m\u001b[0;34m\u001b[0m\u001b[0m\n\u001b[0m",
            "\u001b[0;31mAttributeError\u001b[0m: 'str' object has no attribute 'sort'"
          ]
        }
      ]
    },
    {
      "cell_type": "code",
      "source": [
        "a = \"hello\"\n",
        "sorted(a) # 字元的排序, 變成列表"
      ],
      "metadata": {
        "id": "QSSx7Wkokgfg",
        "outputId": "f11bd7ca-a21f-4dca-ed98-bcfdb2aa6250",
        "colab": {
          "base_uri": "https://localhost:8080/"
        }
      },
      "execution_count": 14,
      "outputs": [
        {
          "output_type": "execute_result",
          "data": {
            "text/plain": [
              "['e', 'h', 'l', 'l', 'o']"
            ]
          },
          "metadata": {},
          "execution_count": 14
        }
      ]
    },
    {
      "cell_type": "markdown",
      "metadata": {
        "id": "7CjEhlBINSni"
      },
      "source": [
        "### Fun Time 來玩玩列表 ###"
      ]
    },
    {
      "cell_type": "code",
      "execution_count": null,
      "metadata": {
        "id": "c0lCLFOrNSni",
        "outputId": "b11e1db7-adc7-40dc-b91a-fdd7ad3b6f9c"
      },
      "outputs": [
        {
          "data": {
            "text/plain": [
              "['a', 'c']"
            ]
          },
          "execution_count": 9,
          "metadata": {},
          "output_type": "execute_result"
        }
      ],
      "source": [
        "#補充: list.remove()\n",
        "\n",
        "list = ['a','b','c']\n",
        "list.remove('b')\n",
        "list"
      ]
    },
    {
      "cell_type": "markdown",
      "metadata": {
        "id": "M43qXfn1NSni"
      },
      "source": [
        "### Fun Quiz : 試著玩玩列表 ###\n",
        "\n",
        "想辦法在一個空的列表 a = [] 裡面，擺進 1 ~ 5 的數字，然後把 3 拿掉，再從大到小印出來\n",
        "\n",
        "自己試試看喔\n",
        "\n",
        "------------------------"
      ]
    },
    {
      "cell_type": "code",
      "execution_count": null,
      "metadata": {
        "id": "uLKnA3wNNSni",
        "outputId": "7cdc414b-acd5-45a5-95b0-28dedf9ec24b"
      },
      "outputs": [
        {
          "data": {
            "text/plain": [
              "[5, 4, 2, 1]"
            ]
          },
          "execution_count": 13,
          "metadata": {},
          "output_type": "execute_result"
        }
      ],
      "source": [
        "a = []\n",
        "a.append(1)\n",
        "a.append(2)\n",
        "a.append(3)\n",
        "a.append(4)\n",
        "a.append(5)\n",
        "a.remove(3)\n",
        "a.sort(reverse=True)\n",
        "a"
      ]
    },
    {
      "cell_type": "markdown",
      "metadata": {
        "id": "QRYc0WOzNSni"
      },
      "source": [
        "### Fun Example: List Poker - 列表樸克牌 ###"
      ]
    },
    {
      "cell_type": "code",
      "execution_count": null,
      "metadata": {
        "id": "g-pj_p-5NSni",
        "outputId": "adc26c1c-ccf8-45c4-d574-644cfe38ec3b"
      },
      "outputs": [
        {
          "name": "stdout",
          "output_type": "stream",
          "text": [
            "比大小遊戲。我抽到 A\n",
            "選第幾張牌?2\n",
            "你抽到 5\n",
            "全部的牌: ['A', '4', '5', '3', '7', '2', 'K', '6', '8', 'J', '10', '9', 'Q']\n"
          ]
        }
      ],
      "source": [
        "import random\n",
        "\n",
        "a = ['A','K','Q','J','10','9','8', '7', '6','5','4','3','2']\n",
        "random.shuffle(a)\n",
        "\n",
        "print(\"比大小遊戲。我抽到\", a[0])\n",
        "\n",
        "b = input(\"選第幾張牌?\")\n",
        "print(\"你抽到\",a[int(b)])\n",
        "\n",
        "print(\"全部的牌:\", a)"
      ]
    },
    {
      "cell_type": "markdown",
      "metadata": {
        "id": "d_7tTrwrNSni"
      },
      "source": [
        "### 改良一下 ###\n",
        "```\n",
        "if 條件 :\n",
        "   符合就作出行動\n",
        "```\n",
        "\n",
        "[repl.it](https://repl.it/@paulbroadmissio/list-poker)"
      ]
    },
    {
      "cell_type": "code",
      "execution_count": null,
      "metadata": {
        "id": "VNIoTAAuNSni",
        "outputId": "091e51e2-b4d4-4363-85b7-eb85614cfaa0"
      },
      "outputs": [
        {
          "name": "stdout",
          "output_type": "stream",
          "text": [
            "比大小遊戲。我抽到 8\n",
            "選第幾張牌?2\n",
            "你抽到 J\n",
            "你贏了\n",
            "全部的牌: ['8', '3', 'J', '10', '4', '2', '5', '6', '9', 'K', 'A', '7', 'Q']\n"
          ]
        }
      ],
      "source": [
        "import random\n",
        "\n",
        "a = ['A','K','Q','J','10','9','8', '7', '6','5','4','3','2']\n",
        "random.shuffle(a)\n",
        "\n",
        "print(\"比大小遊戲。我抽到\", a[0])\n",
        "b = input(\"選第幾張牌?\")\n",
        "print(\"你抽到\",a[int(b)])\n",
        "\n",
        "if a[int(b)] > a[0]:\n",
        "    print(\"你贏了\")\n",
        "    \n",
        "print(\"全部的牌:\", a)"
      ]
    },
    {
      "cell_type": "markdown",
      "source": [
        "### Fun Quiz ###\n",
        "“Anagrams\" 的意思是「相同字母異序詞」, 也就是字母組成相同, 但是順序排列不同, 比如說：\n",
        "- 例1 : \"iceman\" = \"cinema\"\n",
        "- 例2 : \"Dormitory\" = \"Dirty room\"\n",
        "\n",
        "請用剛剛補充 sorted() 幫字串的字母排序成 list 的方法, 分別讓使用者輸入兩個字串, 顯示它們是不是 anagram. "
      ],
      "metadata": {
        "id": "5VcGBMmKlGeO"
      }
    },
    {
      "cell_type": "markdown",
      "source": [
        "### Answer: ###"
      ],
      "metadata": {
        "id": "4UJxaEK1myAy"
      }
    },
    {
      "cell_type": "code",
      "source": [
        "a = input(\"請輸入第一個字串：\")\n",
        "b = input(\"請輸入第二個字串：\")\n",
        "print(sorted(a)==sorted(b))"
      ],
      "metadata": {
        "id": "AOdMP3WGmhUP",
        "outputId": "e6bccb56-8271-49df-9a6f-4314e26eb244",
        "colab": {
          "base_uri": "https://localhost:8080/"
        }
      },
      "execution_count": 16,
      "outputs": [
        {
          "output_type": "stream",
          "name": "stdout",
          "text": [
            "請輸入第一個字串：iceman\n",
            "請輸入第二個字串：cinema\n",
            "True\n"
          ]
        }
      ]
    },
    {
      "cell_type": "markdown",
      "source": [
        "### 補充 : List() 與 [] ###"
      ],
      "metadata": {
        "id": "QqR_87twNar7"
      }
    },
    {
      "cell_type": "markdown",
      "source": [
        "List() 也是列表, 用類別來產生"
      ],
      "metadata": {
        "id": "suiNMij4PD8u"
      }
    },
    {
      "cell_type": "code",
      "source": [
        "a = list()\n",
        "b = []\n",
        "\n",
        "a = [1,2,3,4]\n",
        "b = [1,2,3,4]\n",
        "print(a==b)"
      ],
      "metadata": {
        "colab": {
          "base_uri": "https://localhost:8080/"
        },
        "id": "XGukE2IJO0Gy",
        "outputId": "6521185a-fdeb-4ae4-af5d-307d9c75fd55"
      },
      "execution_count": 1,
      "outputs": [
        {
          "output_type": "stream",
          "name": "stdout",
          "text": [
            "True\n"
          ]
        }
      ]
    },
    {
      "cell_type": "markdown",
      "source": [
        "一樣, 又不一樣"
      ],
      "metadata": {
        "id": "KXiC1tXmPMQj"
      }
    },
    {
      "cell_type": "code",
      "source": [
        "import timeit #計時套件\n",
        "\n",
        "help(timeit.timeit)"
      ],
      "metadata": {
        "colab": {
          "base_uri": "https://localhost:8080/"
        },
        "id": "dM6Rd_udPBL6",
        "outputId": "abf255a3-8057-4b6f-9296-5d306a641b29"
      },
      "execution_count": 2,
      "outputs": [
        {
          "output_type": "stream",
          "name": "stdout",
          "text": [
            "Help on function timeit in module timeit:\n",
            "\n",
            "timeit(stmt='pass', setup='pass', timer=<built-in function perf_counter>, number=1000000, globals=None)\n",
            "    Convenience function to create Timer object and call timeit method.\n",
            "\n"
          ]
        }
      ]
    },
    {
      "cell_type": "code",
      "source": [
        "timeit.timeit(\"list()\", number=1000000)"
      ],
      "metadata": {
        "colab": {
          "base_uri": "https://localhost:8080/"
        },
        "id": "Ytbb2_RZPnAT",
        "outputId": "1838b43a-6827-4241-ffa8-146e98c4514e"
      },
      "execution_count": 3,
      "outputs": [
        {
          "output_type": "execute_result",
          "data": {
            "text/plain": [
              "0.10642081499997857"
            ]
          },
          "metadata": {},
          "execution_count": 3
        }
      ]
    },
    {
      "cell_type": "code",
      "source": [
        "timeit.timeit(\"[]\", number=1000000)"
      ],
      "metadata": {
        "colab": {
          "base_uri": "https://localhost:8080/"
        },
        "id": "W67R3Y99Pvg0",
        "outputId": "001907de-4ea0-4cde-f92c-4ad2cd30cd8e"
      },
      "execution_count": 4,
      "outputs": [
        {
          "output_type": "execute_result",
          "data": {
            "text/plain": [
              "0.03865637199999128"
            ]
          },
          "metadata": {},
          "execution_count": 4
        }
      ]
    },
    {
      "cell_type": "markdown",
      "source": [
        "### 進階：了解一下為什麼 ###"
      ],
      "metadata": {
        "id": "XXOLpOM9P6Tt"
      }
    },
    {
      "cell_type": "code",
      "source": [
        "import dis # disassembler"
      ],
      "metadata": {
        "id": "4RVyn-1oQAcI"
      },
      "execution_count": 6,
      "outputs": []
    },
    {
      "cell_type": "code",
      "source": [
        "dis.dis(\"list()\") #用類別來產生"
      ],
      "metadata": {
        "colab": {
          "base_uri": "https://localhost:8080/"
        },
        "id": "gHw3jV7DQGKU",
        "outputId": "59f9d5dd-a992-41a8-f796-d358fcdd481d"
      },
      "execution_count": 7,
      "outputs": [
        {
          "output_type": "stream",
          "name": "stdout",
          "text": [
            "  1           0 LOAD_NAME                0 (list)\n",
            "              2 CALL_FUNCTION            0\n",
            "              4 RETURN_VALUE\n"
          ]
        }
      ]
    },
    {
      "cell_type": "code",
      "source": [
        "dis.dis(\"[]\") #用直譯器來產生"
      ],
      "metadata": {
        "colab": {
          "base_uri": "https://localhost:8080/"
        },
        "id": "byxtHPPSQNWS",
        "outputId": "d8460c82-a916-41f4-b421-f248ca4881ef"
      },
      "execution_count": 8,
      "outputs": [
        {
          "output_type": "stream",
          "name": "stdout",
          "text": [
            "  1           0 BUILD_LIST               0\n",
            "              2 RETURN_VALUE\n"
          ]
        }
      ]
    },
    {
      "cell_type": "markdown",
      "source": [
        "叫快一點? \"vectorcall\" : <a href=https://peps.python.org/pep-0590/>PEP590</a>\n",
        "-  based on the “fastcall” convention, which is already used internally by CPython\n",
        "- new API is private in CPython 3.8. The plan is to finalize semantics and make it public in Python 3.9\n",
        "\n",
        "提升了 list()、tuple()、dict() 基本資料型態的速度, 也適用在自定義的類別"
      ],
      "metadata": {
        "id": "SktJEqLsQ0Q_"
      }
    },
    {
      "cell_type": "markdown",
      "metadata": {
        "id": "QBCh9ZXINSni"
      },
      "source": [
        "### 特性:時間順序、自動延展收縮 ###"
      ]
    },
    {
      "cell_type": "markdown",
      "metadata": {
        "id": "tWiGg5ojNSni"
      },
      "source": [
        "## Tuple 元組 ##"
      ]
    },
    {
      "cell_type": "code",
      "execution_count": null,
      "metadata": {
        "id": "YPZbxAb6NSni",
        "outputId": "38220627-d372-4d8e-b984-78bd8b24db28"
      },
      "outputs": [
        {
          "name": "stdout",
          "output_type": "stream",
          "text": [
            "(1, 2, 3)\n"
          ]
        }
      ],
      "source": [
        "a = (1,2,3)\n",
        "print (a)"
      ]
    },
    {
      "cell_type": "code",
      "execution_count": null,
      "metadata": {
        "id": "T1LMO2vFNSni",
        "outputId": "292125a8-5d6e-447d-9d60-7fd5121d9f2c"
      },
      "outputs": [
        {
          "data": {
            "text/plain": [
              "tuple"
            ]
          },
          "execution_count": 49,
          "metadata": {},
          "output_type": "execute_result"
        }
      ],
      "source": [
        "type(a)"
      ]
    },
    {
      "cell_type": "code",
      "execution_count": null,
      "metadata": {
        "id": "X1ldAjUPNSni",
        "outputId": "8b3ff1b6-0d0d-4168-f4f6-2f2fe5ea9613"
      },
      "outputs": [
        {
          "ename": "AttributeError",
          "evalue": "'tuple' object has no attribute 'append'",
          "output_type": "error",
          "traceback": [
            "\u001b[1;31m---------------------------------------------------------------------------\u001b[0m",
            "\u001b[1;31mAttributeError\u001b[0m                            Traceback (most recent call last)",
            "\u001b[1;32m<ipython-input-50-6de0688dd2dd>\u001b[0m in \u001b[0;36m<module>\u001b[1;34m()\u001b[0m\n\u001b[1;32m----> 1\u001b[1;33m \u001b[0ma\u001b[0m\u001b[1;33m.\u001b[0m\u001b[0mappend\u001b[0m\u001b[1;33m(\u001b[0m\u001b[1;36m4\u001b[0m\u001b[1;33m)\u001b[0m\u001b[1;33m\u001b[0m\u001b[0m\n\u001b[0m",
            "\u001b[1;31mAttributeError\u001b[0m: 'tuple' object has no attribute 'append'"
          ]
        }
      ],
      "source": [
        "a.append(4)"
      ]
    },
    {
      "cell_type": "code",
      "execution_count": null,
      "metadata": {
        "id": "rkgWyclGNSnj",
        "outputId": "85027971-b41f-4043-ddaf-be3ab544ecf9"
      },
      "outputs": [
        {
          "ename": "AttributeError",
          "evalue": "'tuple' object has no attribute 'sort'",
          "output_type": "error",
          "traceback": [
            "\u001b[1;31m---------------------------------------------------------------------------\u001b[0m",
            "\u001b[1;31mAttributeError\u001b[0m                            Traceback (most recent call last)",
            "\u001b[1;32m<ipython-input-51-e7eb8b51a6fa>\u001b[0m in \u001b[0;36m<module>\u001b[1;34m()\u001b[0m\n\u001b[1;32m----> 1\u001b[1;33m \u001b[0ma\u001b[0m\u001b[1;33m.\u001b[0m\u001b[0msort\u001b[0m\u001b[1;33m(\u001b[0m\u001b[1;33m)\u001b[0m\u001b[1;33m\u001b[0m\u001b[0m\n\u001b[0m",
            "\u001b[1;31mAttributeError\u001b[0m: 'tuple' object has no attribute 'sort'"
          ]
        }
      ],
      "source": [
        "a.sort()"
      ]
    },
    {
      "cell_type": "code",
      "execution_count": null,
      "metadata": {
        "id": "_z93ZHO5NSnj",
        "outputId": "c0d14e3f-2449-431d-a703-077adec7a013"
      },
      "outputs": [
        {
          "data": {
            "text/plain": [
              "['__add__',\n",
              " '__class__',\n",
              " '__contains__',\n",
              " '__delattr__',\n",
              " '__dir__',\n",
              " '__doc__',\n",
              " '__eq__',\n",
              " '__format__',\n",
              " '__ge__',\n",
              " '__getattribute__',\n",
              " '__getitem__',\n",
              " '__getnewargs__',\n",
              " '__gt__',\n",
              " '__hash__',\n",
              " '__init__',\n",
              " '__init_subclass__',\n",
              " '__iter__',\n",
              " '__le__',\n",
              " '__len__',\n",
              " '__lt__',\n",
              " '__mul__',\n",
              " '__ne__',\n",
              " '__new__',\n",
              " '__reduce__',\n",
              " '__reduce_ex__',\n",
              " '__repr__',\n",
              " '__rmul__',\n",
              " '__setattr__',\n",
              " '__sizeof__',\n",
              " '__str__',\n",
              " '__subclasshook__',\n",
              " 'count',\n",
              " 'index']"
            ]
          },
          "execution_count": 52,
          "metadata": {},
          "output_type": "execute_result"
        }
      ],
      "source": [
        "dir(a)"
      ]
    },
    {
      "cell_type": "code",
      "execution_count": null,
      "metadata": {
        "id": "yOmTjBaSNSnj",
        "outputId": "7a4d89b3-a725-42f5-e286-398b81e779e8"
      },
      "outputs": [
        {
          "data": {
            "text/plain": [
              "1"
            ]
          },
          "execution_count": 54,
          "metadata": {},
          "output_type": "execute_result"
        }
      ],
      "source": [
        "a.count(1)"
      ]
    },
    {
      "cell_type": "code",
      "execution_count": null,
      "metadata": {
        "id": "5sSZ0OwANSnj",
        "outputId": "830ae95f-e479-4c32-ed8f-7ad23faadbd8"
      },
      "outputs": [
        {
          "data": {
            "text/plain": [
              "2"
            ]
          },
          "execution_count": 56,
          "metadata": {},
          "output_type": "execute_result"
        }
      ],
      "source": [
        "a[1]"
      ]
    },
    {
      "cell_type": "code",
      "execution_count": null,
      "metadata": {
        "id": "yvtOxrhlNSnj",
        "outputId": "c74e2544-58f1-4bf8-b54f-2c8c779fb0ed"
      },
      "outputs": [
        {
          "data": {
            "text/plain": [
              "3"
            ]
          },
          "execution_count": 57,
          "metadata": {},
          "output_type": "execute_result"
        }
      ],
      "source": [
        "len(a)"
      ]
    },
    {
      "cell_type": "markdown",
      "metadata": {
        "id": "iGMt0aoZNSnj"
      },
      "source": [
        "### 特性: 不能加、不能減、不能換序；不可變、不可修改。適用靜態不想讓人改變的資料。"
      ]
    },
    {
      "cell_type": "code",
      "execution_count": null,
      "metadata": {
        "collapsed": true,
        "id": "slr6HMYoNSnj"
      },
      "outputs": [],
      "source": [
        "days = ('Sunday', 'Monday', 'Tuesday', 'Wednesday','Thursday', 'Friday', 'Saturday')"
      ]
    },
    {
      "cell_type": "markdown",
      "metadata": {
        "id": "Wa4dmojHNSnj"
      },
      "source": [
        "## Dictionary 字典 (Mapping type)##"
      ]
    },
    {
      "cell_type": "markdown",
      "metadata": {
        "id": "vUnwpbvhNSnj"
      },
      "source": [
        "### dictionary : a reference book listing alphabetically the words of one language and showing their meanings \n",
        "\n",
        "![](http://study.com/cimages/videopreview/what-is-a-dictionary-definition-use-history_114137.jpg)\n",
        "\n",
        "|  word    | Explanation          |\n",
        "|--------------|-----------------|\n",
        "| python    | any of various large constricting snakes   |\n",
        "| Python    | 一種好用的電腦語言      |\n",
        "| xxx    | yyy     |\n",
        "| key   | value  |\n"
      ]
    },
    {
      "cell_type": "code",
      "execution_count": null,
      "metadata": {
        "collapsed": true,
        "id": "fY0KbcavNSnj"
      },
      "outputs": [],
      "source": [
        "dict = {'Paul': 90, 'Alice': 80, 'Bob': 'zero', 'key':'value'}"
      ]
    },
    {
      "cell_type": "code",
      "execution_count": null,
      "metadata": {
        "id": "2LI_gxbrNSnj",
        "outputId": "df71fe56-71d2-485b-f260-b6f5e25e4e09"
      },
      "outputs": [
        {
          "data": {
            "text/plain": [
              "90"
            ]
          },
          "execution_count": 15,
          "metadata": {},
          "output_type": "execute_result"
        }
      ],
      "source": [
        "dict['Paul']"
      ]
    },
    {
      "cell_type": "code",
      "execution_count": null,
      "metadata": {
        "id": "GBEXRFxFNSnj",
        "outputId": "b08efbf5-a5f9-48a1-8813-f5fd6434571d"
      },
      "outputs": [
        {
          "data": {
            "text/plain": [
              "'value'"
            ]
          },
          "execution_count": 16,
          "metadata": {},
          "output_type": "execute_result"
        }
      ],
      "source": [
        "dict['key']"
      ]
    },
    {
      "cell_type": "code",
      "execution_count": null,
      "metadata": {
        "id": "cBTco81uNSnj",
        "outputId": "aadd9e8a-b5e3-4aac-def4-210d8a017bf2"
      },
      "outputs": [
        {
          "ename": "KeyError",
          "evalue": "'nothiskey'",
          "output_type": "error",
          "traceback": [
            "\u001b[1;31m---------------------------------------------------------------------------\u001b[0m",
            "\u001b[1;31mKeyError\u001b[0m                                  Traceback (most recent call last)",
            "\u001b[1;32m<ipython-input-17-e612e3922ff1>\u001b[0m in \u001b[0;36m<module>\u001b[1;34m()\u001b[0m\n\u001b[1;32m----> 1\u001b[1;33m \u001b[0mdict\u001b[0m\u001b[1;33m[\u001b[0m\u001b[1;34m'nothiskey'\u001b[0m\u001b[1;33m]\u001b[0m\u001b[1;33m\u001b[0m\u001b[0m\n\u001b[0m",
            "\u001b[1;31mKeyError\u001b[0m: 'nothiskey'"
          ]
        }
      ],
      "source": [
        "dict['nothiskey']"
      ]
    },
    {
      "cell_type": "code",
      "execution_count": null,
      "metadata": {
        "id": "tN5_ijfCNSnj",
        "outputId": "4d0c859b-344d-4127-a1d4-7f0c3b9fff69"
      },
      "outputs": [
        {
          "data": {
            "text/plain": [
              "'value'"
            ]
          },
          "execution_count": 18,
          "metadata": {},
          "output_type": "execute_result"
        }
      ],
      "source": [
        "dict.get('key')"
      ]
    },
    {
      "cell_type": "code",
      "execution_count": null,
      "metadata": {
        "id": "_DJXUFNdNSnj",
        "outputId": "c4a04cef-9b2e-4c25-cb52-74159838bc4d"
      },
      "outputs": [
        {
          "name": "stdout",
          "output_type": "stream",
          "text": [
            "{'Paul': 90, 'Alice': 80, 'Bob': 'zero', 'key': 'value', 'John': 100}\n"
          ]
        }
      ],
      "source": [
        "dict['John'] = 100\n",
        "print (dict)"
      ]
    },
    {
      "cell_type": "code",
      "execution_count": null,
      "metadata": {
        "id": "XASV1ekDNSnk",
        "outputId": "ed87902f-4479-4f43-cdc7-d3bd17711ffa"
      },
      "outputs": [
        {
          "data": {
            "text/plain": [
              "dict_keys(['Paul', 'Alice', 'Bob', 'key', 'John'])"
            ]
          },
          "execution_count": 20,
          "metadata": {},
          "output_type": "execute_result"
        }
      ],
      "source": [
        "dict.keys()"
      ]
    },
    {
      "cell_type": "code",
      "execution_count": null,
      "metadata": {
        "id": "E_R8iucgNSnk",
        "outputId": "699f4b61-be73-47b5-e542-d658bfd04e37"
      },
      "outputs": [
        {
          "data": {
            "text/plain": [
              "dict_values([90, 80, 'zero', 'value', 100])"
            ]
          },
          "execution_count": 21,
          "metadata": {},
          "output_type": "execute_result"
        }
      ],
      "source": [
        "dict.values()"
      ]
    },
    {
      "cell_type": "code",
      "execution_count": null,
      "metadata": {
        "id": "yF8WXkofNSnk",
        "outputId": "781f28e3-6c62-4fbb-b781-f39cd5ed231b"
      },
      "outputs": [
        {
          "data": {
            "text/plain": [
              "True"
            ]
          },
          "execution_count": 22,
          "metadata": {},
          "output_type": "execute_result"
        }
      ],
      "source": [
        "'Paul' in dict.keys()  #how to traverse dictionary, \"in\""
      ]
    },
    {
      "cell_type": "code",
      "execution_count": null,
      "metadata": {
        "id": "MiXvIKnbNSnk",
        "outputId": "1f1f8f9e-a34a-4bfd-8d9f-2cb4018824ff"
      },
      "outputs": [
        {
          "name": "stdout",
          "output_type": "stream",
          "text": [
            "Paul\n",
            "Alice\n",
            "Bob\n",
            "key\n",
            "John\n"
          ]
        }
      ],
      "source": [
        "for key in dict.keys():\n",
        "    print (key)"
      ]
    },
    {
      "cell_type": "code",
      "execution_count": null,
      "metadata": {
        "id": "BvKrlUFnNSnk",
        "outputId": "fb83cfc8-2651-456f-f267-41b46011ce15"
      },
      "outputs": [
        {
          "name": "stdout",
          "output_type": "stream",
          "text": [
            "Paul = 90\n",
            "Alice = 80\n",
            "Bob = zero\n",
            "key = value\n",
            "John = 100\n"
          ]
        }
      ],
      "source": [
        "for key in dict.keys():\n",
        "    print (key, '=', dict[key])"
      ]
    },
    {
      "cell_type": "markdown",
      "metadata": {
        "id": "JrHOWwCJNSnk"
      },
      "source": [
        "### Fun Time 玩玩字典 ###"
      ]
    },
    {
      "cell_type": "markdown",
      "metadata": {
        "id": "DP4XrvtbNSnk"
      },
      "source": [
        "### Fun Quiz 1 -  電子翻譯機 ###\n",
        "```\n",
        "有一個dictionary d = {'早上': 'morning', '下午': 'afternoon', '傍晚': 'evening', '夜間': 'night'}\n",
        "\n",
        "當輸入中文時，可以顯示翻譯出英文, 如:\n",
        "\n",
        "請輸入: 早上\n",
        "早上的英文是: morning\n",
        "```\n",
        "\n",
        "自己試試看喔\n",
        "\n",
        "------------------------------------"
      ]
    },
    {
      "cell_type": "code",
      "execution_count": null,
      "metadata": {
        "id": "UF-8ZyXjNSnk",
        "outputId": "dce0f37c-4dc2-469e-b4a4-e0cb30428bf8"
      },
      "outputs": [
        {
          "name": "stdout",
          "output_type": "stream",
          "text": [
            "請輸入:早上\n",
            "早上的英文是: morning\n"
          ]
        }
      ],
      "source": [
        "d = {'早上': 'morning', '下午': 'afternoon', '傍晚': 'evening', '夜間': 'night'}\n",
        "\n",
        "key = input(\"請輸入:\")\n",
        "print(key+\"的英文是:\", d[key])"
      ]
    },
    {
      "cell_type": "markdown",
      "metadata": {
        "id": "8-D-jdZfNSnk"
      },
      "source": [
        "# Assignment ##\n",
        "### 有一個dictionary d = {'1': 'morning', '2': 'afternoon', '3': 'evening', '4': 'night'}\n",
        "### 請想辦法印出:\n",
        "I like morning\n",
        "\n",
        "I like afternoon\n",
        "\n",
        "I like evening\n",
        "\n",
        "I like night\n",
        "\n",
        "#### https://repl.it/J8nQ/0 ####"
      ]
    },
    {
      "cell_type": "code",
      "execution_count": null,
      "metadata": {
        "collapsed": true,
        "id": "wDWJj6ffNSnk"
      },
      "outputs": [],
      "source": [
        "d = {'1': 'morning', '2': 'afternoon', '3': 'evening', '4': 'night'}"
      ]
    },
    {
      "cell_type": "code",
      "execution_count": null,
      "metadata": {
        "scrolled": false,
        "id": "xbu5V5cZNSnk",
        "outputId": "b4915930-dc62-49e4-e294-1cf4ab649846"
      },
      "outputs": [
        {
          "name": "stdout",
          "output_type": "stream",
          "text": [
            "I like morning\n",
            "I like afternoon\n",
            "I like evening\n",
            "I like night\n"
          ]
        }
      ],
      "source": [
        "for key in d.keys():\n",
        "    print (\"I like\", d[key])"
      ]
    },
    {
      "cell_type": "markdown",
      "source": [
        "### Fun Time ###\n",
        "用字典來做簡單密碼系統\n",
        "Password Authentication by dictionary and string input/output\n"
      ],
      "metadata": {
        "id": "zOXage63oPqF"
      }
    },
    {
      "cell_type": "code",
      "source": [
        "import getpass #Python 內建密碼小工具"
      ],
      "metadata": {
        "id": "zctLU-bEohm1"
      },
      "execution_count": 19,
      "outputs": []
    },
    {
      "cell_type": "code",
      "source": [
        "#提示使用者輸入一個密碼且不會有回音 (echo)\n",
        "password = getpass.getpass(\"請輸入密碼：\")"
      ],
      "metadata": {
        "id": "4jVxGum8oz0Q",
        "outputId": "b2e98480-7a60-495a-9396-82076b457cb3",
        "colab": {
          "base_uri": "https://localhost:8080/"
        }
      },
      "execution_count": 21,
      "outputs": [
        {
          "name": "stdout",
          "output_type": "stream",
          "text": [
            "請輸入密碼：··········\n"
          ]
        }
      ]
    },
    {
      "cell_type": "code",
      "source": [
        "print(password)"
      ],
      "metadata": {
        "id": "JCWoGEx4pAEy",
        "outputId": "99eb85a5-137d-463e-c2d2-ff7d4adf37e6",
        "colab": {
          "base_uri": "https://localhost:8080/"
        }
      },
      "execution_count": 23,
      "outputs": [
        {
          "output_type": "stream",
          "name": "stdout",
          "text": [
            "1234\n"
          ]
        }
      ]
    },
    {
      "cell_type": "markdown",
      "source": [
        "### 自己也可以先試試看, 不要看答案 ### "
      ],
      "metadata": {
        "id": "SYLIb0qJpiWt"
      }
    },
    {
      "cell_type": "code",
      "source": [
        "import getpass\n",
        "password_database = {\"Paul\":\"1234\", \"guest\":\"1111\"}\n",
        "username = input(\"請輸入帳號:\")\n",
        "password = getpass.getpass(\"請輸入密碼:\")\n",
        "print (password_database [username] == password)"
      ],
      "metadata": {
        "id": "sJtDpGgkpFfK",
        "outputId": "30829bd1-e895-4f56-a8aa-69f31d3f5066",
        "colab": {
          "base_uri": "https://localhost:8080/"
        }
      },
      "execution_count": 25,
      "outputs": [
        {
          "output_type": "stream",
          "name": "stdout",
          "text": [
            "請輸入帳號:Paul\n",
            "請輸入密碼:··········\n",
            "True\n"
          ]
        }
      ]
    },
    {
      "cell_type": "markdown",
      "metadata": {
        "id": "xOczlFiaNSnk"
      },
      "source": [
        "### 用字典來製作井字遊戲 ###\n",
        "\n",
        "[repl.it](https://repl.it/@paulbroadmissio/dictionary-fun-tictactoe)"
      ]
    },
    {
      "cell_type": "code",
      "execution_count": null,
      "metadata": {
        "id": "b14CjBuKNSnk",
        "outputId": "8270730c-faf3-4619-a401-c09e71e1fcb9"
      },
      "outputs": [
        {
          "name": "stdout",
          "output_type": "stream",
          "text": [
            "O 想下哪裡? 1\n",
            "O | 2 | 3\n",
            "4 | 5 | 6\n",
            "7 | 8 | 9\n",
            "X 想下哪裡? 2\n",
            "O | X | 3\n",
            "4 | 5 | 6\n",
            "7 | 8 | 9\n",
            "O 想下哪裡? 5\n",
            "O | X | 3\n",
            "4 | O | 6\n",
            "7 | 8 | 9\n",
            "X 想下哪裡? 8\n",
            "O | X | 3\n",
            "4 | O | 6\n",
            "7 | X | 9\n",
            "O 想下哪裡? 9\n",
            "O | X | 3\n",
            "4 | O | 6\n",
            "7 | X | O\n",
            "X 想下哪裡? \n",
            "O | X | 3\n",
            "4 | O | 6\n",
            "7 | X | O\n",
            "O 想下哪裡? \n",
            "O | X | 3\n",
            "4 | O | 6\n",
            "7 | X | O\n",
            "X 想下哪裡? 3\n",
            "O | X | X\n",
            "4 | O | 6\n",
            "7 | X | O\n",
            "O 想下哪裡? 6\n",
            "O | X | X\n",
            "4 | O | O\n",
            "7 | X | O\n",
            "X 想下哪裡? 4\n",
            "O | X | X\n",
            "X | O | O\n",
            "7 | X | O\n"
          ]
        }
      ],
      "source": [
        "import random\n",
        "d = {'1':'1', '2':'2', '3':'3', '4':'4', '5':'5', '6':'6', '7':'7', '8':'8', '9':'9'}\n",
        "\n",
        "def printBoard(board):\n",
        "    print(board['1'] + ' | ' + board['2'] + ' | ' + board['3'])\n",
        "    print(board['4'] + ' | ' + board['5'] + ' | ' + board['6'])\n",
        "    print(board['7'] + ' | ' + board['8'] + ' | ' + board['9'])\n",
        "\n",
        "i = 0\n",
        "while i<5:\n",
        "    i = i + 1\n",
        "    \n",
        "    o_go = input(\"O 想下哪裡? \")\n",
        "    d[o_go] = 'O'\n",
        "    printBoard(d)\n",
        "    \n",
        "    x_go = input(\"X 想下哪裡? \")\n",
        "    d[x_go] = 'X'\n",
        "    printBoard(d)"
      ]
    },
    {
      "cell_type": "markdown",
      "metadata": {
        "id": "oY4ofptcNSnk"
      },
      "source": [
        "## Bonus : pretty print data type ##\n",
        "#### https://repl.it/J8oK/0 ####"
      ]
    },
    {
      "cell_type": "code",
      "execution_count": null,
      "metadata": {
        "id": "Nf_x3aU6NSnk",
        "outputId": "e071c662-ca15-40f1-ac25-bea1350428dd"
      },
      "outputs": [
        {
          "name": "stdout",
          "output_type": "stream",
          "text": [
            "Only print-->\n",
            "{'1': 'morning', '2': 'afternoon', '3': 'evening', '4': 'night', '5': [1, 2, 3], '6': ['abc', 'bcd', '11110', 222]}\n",
            "Pretty print-->\n",
            "{   '1': 'morning',\n",
            "    '2': 'afternoon',\n",
            "    '3': 'evening',\n",
            "    '4': 'night',\n",
            "    '5': [1, 2, 3],\n",
            "    '6': ['abc', 'bcd', '11110', 222]}\n"
          ]
        }
      ],
      "source": [
        "import pprint\n",
        "pp = pprint.PrettyPrinter(indent=4)\n",
        "d = {'1': 'morning', '2': 'afternoon', '3': 'evening', '4': 'night', '5': [1,2,3], '6':['abc','bcd','11110',222]}\n",
        "\n",
        "print(\"Only print-->\")\n",
        "print(d)\n",
        "\n",
        "print(\"Pretty print-->\")\n",
        "pp.pprint(d)"
      ]
    },
    {
      "cell_type": "code",
      "execution_count": null,
      "metadata": {
        "id": "UH7waUPSNSnk",
        "outputId": "0776c8f0-e3c4-4c42-b51a-f23c3d1398a8"
      },
      "outputs": [
        {
          "name": "stdout",
          "output_type": "stream",
          "text": [
            "Help on module pprint:\n",
            "\n",
            "NAME\n",
            "    pprint - Support to pretty-print lists, tuples, & dictionaries recursively.\n",
            "\n",
            "DESCRIPTION\n",
            "    Very simple, but useful, especially in debugging data structures.\n",
            "    \n",
            "    Classes\n",
            "    -------\n",
            "    \n",
            "    PrettyPrinter()\n",
            "        Handle pretty-printing operations onto a stream using a configured\n",
            "        set of formatting parameters.\n",
            "    \n",
            "    Functions\n",
            "    ---------\n",
            "    \n",
            "    pformat()\n",
            "        Format a Python object into a pretty-printed representation.\n",
            "    \n",
            "    pprint()\n",
            "        Pretty-print a Python object to a stream [default is sys.stdout].\n",
            "    \n",
            "    saferepr()\n",
            "        Generate a 'standard' repr()-like value, but protect against recursive\n",
            "        data structures.\n",
            "\n",
            "CLASSES\n",
            "    builtins.object\n",
            "        PrettyPrinter\n",
            "    \n",
            "    class PrettyPrinter(builtins.object)\n",
            "     |  Methods defined here:\n",
            "     |  \n",
            "     |  __init__(self, indent=1, width=80, depth=None, stream=None, *, compact=False)\n",
            "     |      Handle pretty printing operations onto a stream using a set of\n",
            "     |      configured parameters.\n",
            "     |      \n",
            "     |      indent\n",
            "     |          Number of spaces to indent for each level of nesting.\n",
            "     |      \n",
            "     |      width\n",
            "     |          Attempted maximum number of columns in the output.\n",
            "     |      \n",
            "     |      depth\n",
            "     |          The maximum depth to print out nested structures.\n",
            "     |      \n",
            "     |      stream\n",
            "     |          The desired output stream.  If omitted (or false), the standard\n",
            "     |          output stream available at construction will be used.\n",
            "     |      \n",
            "     |      compact\n",
            "     |          If true, several items will be combined in one line.\n",
            "     |  \n",
            "     |  format(self, object, context, maxlevels, level)\n",
            "     |      Format object for a specific context, returning a string\n",
            "     |      and flags indicating whether the representation is 'readable'\n",
            "     |      and whether the object represents a recursive construct.\n",
            "     |  \n",
            "     |  isreadable(self, object)\n",
            "     |  \n",
            "     |  isrecursive(self, object)\n",
            "     |  \n",
            "     |  pformat(self, object)\n",
            "     |  \n",
            "     |  pprint(self, object)\n",
            "     |  \n",
            "     |  ----------------------------------------------------------------------\n",
            "     |  Data descriptors defined here:\n",
            "     |  \n",
            "     |  __dict__\n",
            "     |      dictionary for instance variables (if defined)\n",
            "     |  \n",
            "     |  __weakref__\n",
            "     |      list of weak references to the object (if defined)\n",
            "\n",
            "FUNCTIONS\n",
            "    isreadable(object)\n",
            "        Determine if saferepr(object) is readable by eval().\n",
            "    \n",
            "    isrecursive(object)\n",
            "        Determine if object requires a recursive representation.\n",
            "    \n",
            "    pformat(object, indent=1, width=80, depth=None, *, compact=False)\n",
            "        Format a Python object into a pretty-printed representation.\n",
            "    \n",
            "    pprint(object, stream=None, indent=1, width=80, depth=None, *, compact=False)\n",
            "        Pretty-print a Python object to a stream [default is sys.stdout].\n",
            "    \n",
            "    saferepr(object)\n",
            "        Version of repr() which can handle recursive data structures.\n",
            "\n",
            "DATA\n",
            "    __all__ = ['pprint', 'pformat', 'isreadable', 'isrecursive', 'saferepr...\n",
            "\n",
            "FILE\n",
            "    c:\\users\\user\\anaconda3\\lib\\pprint.py\n",
            "\n",
            "\n"
          ]
        }
      ],
      "source": [
        "help(pprint)"
      ]
    }
  ],
  "metadata": {
    "kernelspec": {
      "display_name": "Python 3",
      "language": "python",
      "name": "python3"
    },
    "language_info": {
      "codemirror_mode": {
        "name": "ipython",
        "version": 3
      },
      "file_extension": ".py",
      "mimetype": "text/x-python",
      "name": "python",
      "nbconvert_exporter": "python",
      "pygments_lexer": "ipython3",
      "version": "3.6.2"
    },
    "colab": {
      "name": "Python Essentials 2 - More Data Types.ipynb",
      "provenance": []
    }
  },
  "nbformat": 4,
  "nbformat_minor": 0
}