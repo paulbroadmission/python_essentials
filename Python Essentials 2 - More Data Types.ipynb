{
 "cells": [
  {
   "cell_type": "markdown",
   "metadata": {},
   "source": [
    "# Python Essentials by Paul Chao#\n",
    "## More Data Types 2 ##"
   ]
  },
  {
   "cell_type": "markdown",
   "metadata": {},
   "source": [
    "## Strings 字串 ##"
   ]
  },
  {
   "cell_type": "code",
   "execution_count": 4,
   "metadata": {
    "collapsed": true
   },
   "outputs": [],
   "source": [
    "a = \"Hello\""
   ]
  },
  {
   "cell_type": "markdown",
   "metadata": {},
   "source": [
    "![](https://www.tutorialspoint.com/cprogramming/images/string_representation.jpg)"
   ]
  },
  {
   "cell_type": "code",
   "execution_count": 7,
   "metadata": {},
   "outputs": [
    {
     "data": {
      "text/plain": [
       "5"
      ]
     },
     "execution_count": 7,
     "metadata": {},
     "output_type": "execute_result"
    }
   ],
   "source": [
    "len(a)"
   ]
  },
  {
   "cell_type": "code",
   "execution_count": 8,
   "metadata": {},
   "outputs": [
    {
     "data": {
      "text/plain": [
       "'HELLO'"
      ]
     },
     "execution_count": 8,
     "metadata": {},
     "output_type": "execute_result"
    }
   ],
   "source": [
    "a.upper()"
   ]
  },
  {
   "cell_type": "code",
   "execution_count": 12,
   "metadata": {},
   "outputs": [
    {
     "name": "stdout",
     "output_type": "stream",
     "text": [
      "hello\n"
     ]
    }
   ],
   "source": [
    "b = a.lower() ; print (b)"
   ]
  },
  {
   "cell_type": "code",
   "execution_count": 13,
   "metadata": {},
   "outputs": [
    {
     "data": {
      "text/plain": [
       "'Hello'"
      ]
     },
     "execution_count": 13,
     "metadata": {},
     "output_type": "execute_result"
    }
   ],
   "source": [
    "b.capitalize()"
   ]
  },
  {
   "cell_type": "code",
   "execution_count": 14,
   "metadata": {},
   "outputs": [
    {
     "data": {
      "text/plain": [
       "'Hello world!'"
      ]
     },
     "execution_count": 14,
     "metadata": {},
     "output_type": "execute_result"
    }
   ],
   "source": [
    "a + \" world!\""
   ]
  },
  {
   "cell_type": "code",
   "execution_count": 15,
   "metadata": {},
   "outputs": [
    {
     "data": {
      "text/plain": [
       "'Hello Kitty'"
      ]
     },
     "execution_count": 15,
     "metadata": {},
     "output_type": "execute_result"
    }
   ],
   "source": [
    "c = \" Kitty\"\n",
    "a + c"
   ]
  },
  {
   "cell_type": "code",
   "execution_count": 16,
   "metadata": {},
   "outputs": [
    {
     "data": {
      "text/plain": [
       "'HelloHelloHelloHelloHello'"
      ]
     },
     "execution_count": 16,
     "metadata": {},
     "output_type": "execute_result"
    }
   ],
   "source": [
    "5 * a"
   ]
  },
  {
   "cell_type": "code",
   "execution_count": 17,
   "metadata": {},
   "outputs": [
    {
     "data": {
      "text/plain": [
       "'H'"
      ]
     },
     "execution_count": 17,
     "metadata": {},
     "output_type": "execute_result"
    }
   ],
   "source": [
    "a[0]"
   ]
  },
  {
   "cell_type": "code",
   "execution_count": 14,
   "metadata": {},
   "outputs": [
    {
     "name": "stdout",
     "output_type": "stream",
     "text": [
      "Hello\t World\n",
      "Kitty!\n"
     ]
    }
   ],
   "source": [
    "a = 'Hello\\t World\\nKitty!'\n",
    "print(a)"
   ]
  },
  {
   "cell_type": "code",
   "execution_count": 15,
   "metadata": {},
   "outputs": [
    {
     "name": "stdout",
     "output_type": "stream",
     "text": [
      "Today is a good day.\n",
      "So I want to say\n",
      "Hello World Kitty!\n",
      "\n"
     ]
    }
   ],
   "source": [
    "a = '''Today is a good day.\n",
    "So I want to say\n",
    "Hello World Kitty!\n",
    "'''\n",
    "print(a)"
   ]
  },
  {
   "cell_type": "markdown",
   "metadata": {},
   "source": [
    "### Fun Time 來玩玩字串 ###"
   ]
  },
  {
   "cell_type": "code",
   "execution_count": null,
   "metadata": {
    "collapsed": true
   },
   "outputs": [],
   "source": [
    "a = input()"
   ]
  },
  {
   "cell_type": "code",
   "execution_count": 5,
   "metadata": {},
   "outputs": [
    {
     "name": "stdout",
     "output_type": "stream",
     "text": [
      "請輸入:輸入字串\n",
      "輸入字串\n"
     ]
    }
   ],
   "source": [
    "a = input(\"請輸入:\")\n",
    "print(a)"
   ]
  },
  {
   "cell_type": "markdown",
   "metadata": {},
   "source": [
    "### Fun Quiz 1  - 玩玩字串1 : ###\n",
    "\n",
    "試試看輸入自己的名字，並且把自己名字的字串印出來\n",
    "\n",
    "自己試試看喔\n",
    "\n",
    "------------------"
   ]
  },
  {
   "cell_type": "code",
   "execution_count": 3,
   "metadata": {},
   "outputs": [
    {
     "name": "stdout",
     "output_type": "stream",
     "text": [
      "輸入名字:Paul Chao\n",
      "我的名字是: Paul Chao\n"
     ]
    }
   ],
   "source": [
    "name = input(\"輸入名字:\")\n",
    "print(\"我的名字是:\", name)"
   ]
  },
  {
   "cell_type": "markdown",
   "metadata": {},
   "source": [
    "### Fun Quiz 2 - 玩玩字串2 : ###\n",
    "\n",
    "再試試看分兩次輸入，先輸入自己的姓、再輸入自己的名字，並且把自己姓名全部印出來\n",
    "\n",
    "自己試試看喔...\n",
    "\n",
    "-------------------------"
   ]
  },
  {
   "cell_type": "code",
   "execution_count": 4,
   "metadata": {},
   "outputs": [
    {
     "name": "stdout",
     "output_type": "stream",
     "text": [
      "輸入姓:王\n",
      "輸入名小明\n",
      "我的名字是: 王小明\n"
     ]
    }
   ],
   "source": [
    "surname = input(\"輸入姓:\")\n",
    "name = input(\"輸入名\")\n",
    "print(\"我的名字是:\", surname+name)"
   ]
  },
  {
   "cell_type": "markdown",
   "metadata": {},
   "source": [
    "## List 列表##"
   ]
  },
  {
   "cell_type": "code",
   "execution_count": 1,
   "metadata": {
    "collapsed": true
   },
   "outputs": [],
   "source": [
    "list = ['a','b','c','d','e']"
   ]
  },
  {
   "cell_type": "code",
   "execution_count": 2,
   "metadata": {},
   "outputs": [
    {
     "data": {
      "text/plain": [
       "['a', 'b', 'c', 'd', 'e']"
      ]
     },
     "execution_count": 2,
     "metadata": {},
     "output_type": "execute_result"
    }
   ],
   "source": [
    "list"
   ]
  },
  {
   "cell_type": "code",
   "execution_count": 3,
   "metadata": {},
   "outputs": [
    {
     "data": {
      "text/plain": [
       "5"
      ]
     },
     "execution_count": 3,
     "metadata": {},
     "output_type": "execute_result"
    }
   ],
   "source": [
    "len(list)"
   ]
  },
  {
   "cell_type": "code",
   "execution_count": 4,
   "metadata": {},
   "outputs": [
    {
     "data": {
      "text/plain": [
       "'a'"
      ]
     },
     "execution_count": 4,
     "metadata": {},
     "output_type": "execute_result"
    }
   ],
   "source": [
    "list[0]"
   ]
  },
  {
   "cell_type": "code",
   "execution_count": 5,
   "metadata": {},
   "outputs": [
    {
     "data": {
      "text/plain": [
       "'e'"
      ]
     },
     "execution_count": 5,
     "metadata": {},
     "output_type": "execute_result"
    }
   ],
   "source": [
    "list[4]"
   ]
  },
  {
   "cell_type": "code",
   "execution_count": 6,
   "metadata": {},
   "outputs": [
    {
     "data": {
      "text/plain": [
       "['a', 'b', 'c']"
      ]
     },
     "execution_count": 6,
     "metadata": {},
     "output_type": "execute_result"
    }
   ],
   "source": [
    "list[0:3]"
   ]
  },
  {
   "cell_type": "code",
   "execution_count": 7,
   "metadata": {},
   "outputs": [
    {
     "name": "stdout",
     "output_type": "stream",
     "text": [
      "['a', 'b', 'c', 'd', 'e', 'f']\n"
     ]
    }
   ],
   "source": [
    "list.append('f')\n",
    "print (list)"
   ]
  },
  {
   "cell_type": "code",
   "execution_count": 9,
   "metadata": {},
   "outputs": [
    {
     "name": "stdout",
     "output_type": "stream",
     "text": [
      "['a', 'b', 'c', 'd', 'e', 'f', 'z']\n"
     ]
    }
   ],
   "source": [
    "list.append('z')\n",
    "print (list)"
   ]
  },
  {
   "cell_type": "code",
   "execution_count": 10,
   "metadata": {},
   "outputs": [
    {
     "name": "stdout",
     "output_type": "stream",
     "text": [
      "['a', 'b', 'c', 'd', 'e', 'f', 'z', 'f']\n"
     ]
    }
   ],
   "source": [
    "list.append('f')\n",
    "print (list)"
   ]
  },
  {
   "cell_type": "code",
   "execution_count": 11,
   "metadata": {},
   "outputs": [
    {
     "name": "stdout",
     "output_type": "stream",
     "text": [
      "['a', 'b', 'c', 'd', 'e', 'f', 'f', 'z']\n"
     ]
    }
   ],
   "source": [
    "list.sort()\n",
    "print (list)"
   ]
  },
  {
   "cell_type": "code",
   "execution_count": 12,
   "metadata": {},
   "outputs": [
    {
     "name": "stdout",
     "output_type": "stream",
     "text": [
      "['z', 'f', 'f', 'e', 'd', 'c', 'b', 'a']\n"
     ]
    }
   ],
   "source": [
    "list.sort(reverse=True)\n",
    "print (list)"
   ]
  },
  {
   "cell_type": "code",
   "execution_count": 13,
   "metadata": {},
   "outputs": [
    {
     "data": {
      "text/plain": [
       "2"
      ]
     },
     "execution_count": 13,
     "metadata": {},
     "output_type": "execute_result"
    }
   ],
   "source": [
    "list.count('f')"
   ]
  },
  {
   "cell_type": "markdown",
   "metadata": {},
   "source": [
    "### Fun Time 來玩玩列表 ###"
   ]
  },
  {
   "cell_type": "code",
   "execution_count": 9,
   "metadata": {},
   "outputs": [
    {
     "data": {
      "text/plain": [
       "['a', 'c']"
      ]
     },
     "execution_count": 9,
     "metadata": {},
     "output_type": "execute_result"
    }
   ],
   "source": [
    "#補充: list.remove()\n",
    "\n",
    "list = ['a','b','c']\n",
    "list.remove('b')\n",
    "list"
   ]
  },
  {
   "cell_type": "markdown",
   "metadata": {},
   "source": [
    "### Fun Quiz : 試著玩玩列表 ###\n",
    "\n",
    "想辦法在一個空的列表 a = [] 裡面，擺進 1 ~ 5 的數字，然後把 3 拿掉，再從大到小印出來\n",
    "\n",
    "自己試試看喔\n",
    "\n",
    "------------------------"
   ]
  },
  {
   "cell_type": "code",
   "execution_count": 13,
   "metadata": {},
   "outputs": [
    {
     "data": {
      "text/plain": [
       "[5, 4, 2, 1]"
      ]
     },
     "execution_count": 13,
     "metadata": {},
     "output_type": "execute_result"
    }
   ],
   "source": [
    "a = []\n",
    "a.append(1)\n",
    "a.append(2)\n",
    "a.append(3)\n",
    "a.append(4)\n",
    "a.append(5)\n",
    "a.remove(3)\n",
    "a.sort(reverse=True)\n",
    "a"
   ]
  },
  {
   "cell_type": "markdown",
   "metadata": {},
   "source": [
    "### Fun Example: List Poker - 列表樸克牌 ###"
   ]
  },
  {
   "cell_type": "code",
   "execution_count": 6,
   "metadata": {},
   "outputs": [
    {
     "name": "stdout",
     "output_type": "stream",
     "text": [
      "比大小遊戲。我抽到 A\n",
      "選第幾張牌?2\n",
      "你抽到 5\n",
      "全部的牌: ['A', '4', '5', '3', '7', '2', 'K', '6', '8', 'J', '10', '9', 'Q']\n"
     ]
    }
   ],
   "source": [
    "import random\n",
    "\n",
    "a = ['A','K','Q','J','10','9','8', '7', '6','5','4','3','2']\n",
    "random.shuffle(a)\n",
    "\n",
    "print(\"比大小遊戲。我抽到\", a[0])\n",
    "\n",
    "b = input(\"選第幾張牌?\")\n",
    "print(\"你抽到\",a[int(b)])\n",
    "\n",
    "print(\"全部的牌:\", a)"
   ]
  },
  {
   "cell_type": "markdown",
   "metadata": {},
   "source": [
    "### 改良一下 ###\n",
    "```\n",
    "if 條件 :\n",
    "   符合就作出行動\n",
    "```\n",
    "\n",
    "[repl.it](https://repl.it/@paulbroadmissio/list-poker)"
   ]
  },
  {
   "cell_type": "code",
   "execution_count": 14,
   "metadata": {},
   "outputs": [
    {
     "name": "stdout",
     "output_type": "stream",
     "text": [
      "比大小遊戲。我抽到 8\n",
      "選第幾張牌?2\n",
      "你抽到 J\n",
      "你贏了\n",
      "全部的牌: ['8', '3', 'J', '10', '4', '2', '5', '6', '9', 'K', 'A', '7', 'Q']\n"
     ]
    }
   ],
   "source": [
    "import random\n",
    "\n",
    "a = ['A','K','Q','J','10','9','8', '7', '6','5','4','3','2']\n",
    "random.shuffle(a)\n",
    "\n",
    "print(\"比大小遊戲。我抽到\", a[0])\n",
    "b = input(\"選第幾張牌?\")\n",
    "print(\"你抽到\",a[int(b)])\n",
    "\n",
    "if a[int(b)] > a[0]:\n",
    "    print(\"你贏了\")\n",
    "    \n",
    "print(\"全部的牌:\", a)"
   ]
  },
  {
   "cell_type": "markdown",
   "metadata": {},
   "source": [
    "### 特性:時間順序、自動延展收縮 ###"
   ]
  },
  {
   "cell_type": "markdown",
   "metadata": {},
   "source": [
    "## Tuple 元組 ##"
   ]
  },
  {
   "cell_type": "code",
   "execution_count": 48,
   "metadata": {},
   "outputs": [
    {
     "name": "stdout",
     "output_type": "stream",
     "text": [
      "(1, 2, 3)\n"
     ]
    }
   ],
   "source": [
    "a = (1,2,3)\n",
    "print (a)"
   ]
  },
  {
   "cell_type": "code",
   "execution_count": 49,
   "metadata": {},
   "outputs": [
    {
     "data": {
      "text/plain": [
       "tuple"
      ]
     },
     "execution_count": 49,
     "metadata": {},
     "output_type": "execute_result"
    }
   ],
   "source": [
    "type(a)"
   ]
  },
  {
   "cell_type": "code",
   "execution_count": 50,
   "metadata": {},
   "outputs": [
    {
     "ename": "AttributeError",
     "evalue": "'tuple' object has no attribute 'append'",
     "output_type": "error",
     "traceback": [
      "\u001b[1;31m---------------------------------------------------------------------------\u001b[0m",
      "\u001b[1;31mAttributeError\u001b[0m                            Traceback (most recent call last)",
      "\u001b[1;32m<ipython-input-50-6de0688dd2dd>\u001b[0m in \u001b[0;36m<module>\u001b[1;34m()\u001b[0m\n\u001b[1;32m----> 1\u001b[1;33m \u001b[0ma\u001b[0m\u001b[1;33m.\u001b[0m\u001b[0mappend\u001b[0m\u001b[1;33m(\u001b[0m\u001b[1;36m4\u001b[0m\u001b[1;33m)\u001b[0m\u001b[1;33m\u001b[0m\u001b[0m\n\u001b[0m",
      "\u001b[1;31mAttributeError\u001b[0m: 'tuple' object has no attribute 'append'"
     ]
    }
   ],
   "source": [
    "a.append(4)"
   ]
  },
  {
   "cell_type": "code",
   "execution_count": 51,
   "metadata": {},
   "outputs": [
    {
     "ename": "AttributeError",
     "evalue": "'tuple' object has no attribute 'sort'",
     "output_type": "error",
     "traceback": [
      "\u001b[1;31m---------------------------------------------------------------------------\u001b[0m",
      "\u001b[1;31mAttributeError\u001b[0m                            Traceback (most recent call last)",
      "\u001b[1;32m<ipython-input-51-e7eb8b51a6fa>\u001b[0m in \u001b[0;36m<module>\u001b[1;34m()\u001b[0m\n\u001b[1;32m----> 1\u001b[1;33m \u001b[0ma\u001b[0m\u001b[1;33m.\u001b[0m\u001b[0msort\u001b[0m\u001b[1;33m(\u001b[0m\u001b[1;33m)\u001b[0m\u001b[1;33m\u001b[0m\u001b[0m\n\u001b[0m",
      "\u001b[1;31mAttributeError\u001b[0m: 'tuple' object has no attribute 'sort'"
     ]
    }
   ],
   "source": [
    "a.sort()"
   ]
  },
  {
   "cell_type": "code",
   "execution_count": 52,
   "metadata": {},
   "outputs": [
    {
     "data": {
      "text/plain": [
       "['__add__',\n",
       " '__class__',\n",
       " '__contains__',\n",
       " '__delattr__',\n",
       " '__dir__',\n",
       " '__doc__',\n",
       " '__eq__',\n",
       " '__format__',\n",
       " '__ge__',\n",
       " '__getattribute__',\n",
       " '__getitem__',\n",
       " '__getnewargs__',\n",
       " '__gt__',\n",
       " '__hash__',\n",
       " '__init__',\n",
       " '__init_subclass__',\n",
       " '__iter__',\n",
       " '__le__',\n",
       " '__len__',\n",
       " '__lt__',\n",
       " '__mul__',\n",
       " '__ne__',\n",
       " '__new__',\n",
       " '__reduce__',\n",
       " '__reduce_ex__',\n",
       " '__repr__',\n",
       " '__rmul__',\n",
       " '__setattr__',\n",
       " '__sizeof__',\n",
       " '__str__',\n",
       " '__subclasshook__',\n",
       " 'count',\n",
       " 'index']"
      ]
     },
     "execution_count": 52,
     "metadata": {},
     "output_type": "execute_result"
    }
   ],
   "source": [
    "dir(a)"
   ]
  },
  {
   "cell_type": "code",
   "execution_count": 54,
   "metadata": {},
   "outputs": [
    {
     "data": {
      "text/plain": [
       "1"
      ]
     },
     "execution_count": 54,
     "metadata": {},
     "output_type": "execute_result"
    }
   ],
   "source": [
    "a.count(1)"
   ]
  },
  {
   "cell_type": "code",
   "execution_count": 56,
   "metadata": {},
   "outputs": [
    {
     "data": {
      "text/plain": [
       "2"
      ]
     },
     "execution_count": 56,
     "metadata": {},
     "output_type": "execute_result"
    }
   ],
   "source": [
    "a[1]"
   ]
  },
  {
   "cell_type": "code",
   "execution_count": 57,
   "metadata": {},
   "outputs": [
    {
     "data": {
      "text/plain": [
       "3"
      ]
     },
     "execution_count": 57,
     "metadata": {},
     "output_type": "execute_result"
    }
   ],
   "source": [
    "len(a)"
   ]
  },
  {
   "cell_type": "markdown",
   "metadata": {},
   "source": [
    "### 特性: 不能加、不能減、不能換序；不可變、不可修改。適用靜態不想讓人改變的資料。"
   ]
  },
  {
   "cell_type": "code",
   "execution_count": 58,
   "metadata": {
    "collapsed": true
   },
   "outputs": [],
   "source": [
    "days = ('Sunday', 'Monday', 'Tuesday', 'Wednesday','Thursday', 'Friday', 'Saturday')"
   ]
  },
  {
   "cell_type": "markdown",
   "metadata": {},
   "source": [
    "## Dictionary 字典 (Mapping type)##"
   ]
  },
  {
   "cell_type": "markdown",
   "metadata": {},
   "source": [
    "### dictionary : a reference book listing alphabetically the words of one language and showing their meanings \n",
    "\n",
    "![](http://study.com/cimages/videopreview/what-is-a-dictionary-definition-use-history_114137.jpg)\n",
    "\n",
    "|  word    | Explanation          |\n",
    "|--------------|-----------------|\n",
    "| python    | any of various large constricting snakes   |\n",
    "| Python    | 一種好用的電腦語言      |\n",
    "| xxx    | yyy     |\n",
    "| key   | value  |\n"
   ]
  },
  {
   "cell_type": "code",
   "execution_count": 14,
   "metadata": {
    "collapsed": true
   },
   "outputs": [],
   "source": [
    "dict = {'Paul': 90, 'Alice': 80, 'Bob': 'zero', 'key':'value'}"
   ]
  },
  {
   "cell_type": "code",
   "execution_count": 15,
   "metadata": {},
   "outputs": [
    {
     "data": {
      "text/plain": [
       "90"
      ]
     },
     "execution_count": 15,
     "metadata": {},
     "output_type": "execute_result"
    }
   ],
   "source": [
    "dict['Paul']"
   ]
  },
  {
   "cell_type": "code",
   "execution_count": 16,
   "metadata": {},
   "outputs": [
    {
     "data": {
      "text/plain": [
       "'value'"
      ]
     },
     "execution_count": 16,
     "metadata": {},
     "output_type": "execute_result"
    }
   ],
   "source": [
    "dict['key']"
   ]
  },
  {
   "cell_type": "code",
   "execution_count": 17,
   "metadata": {},
   "outputs": [
    {
     "ename": "KeyError",
     "evalue": "'nothiskey'",
     "output_type": "error",
     "traceback": [
      "\u001b[1;31m---------------------------------------------------------------------------\u001b[0m",
      "\u001b[1;31mKeyError\u001b[0m                                  Traceback (most recent call last)",
      "\u001b[1;32m<ipython-input-17-e612e3922ff1>\u001b[0m in \u001b[0;36m<module>\u001b[1;34m()\u001b[0m\n\u001b[1;32m----> 1\u001b[1;33m \u001b[0mdict\u001b[0m\u001b[1;33m[\u001b[0m\u001b[1;34m'nothiskey'\u001b[0m\u001b[1;33m]\u001b[0m\u001b[1;33m\u001b[0m\u001b[0m\n\u001b[0m",
      "\u001b[1;31mKeyError\u001b[0m: 'nothiskey'"
     ]
    }
   ],
   "source": [
    "dict['nothiskey']"
   ]
  },
  {
   "cell_type": "code",
   "execution_count": 18,
   "metadata": {},
   "outputs": [
    {
     "data": {
      "text/plain": [
       "'value'"
      ]
     },
     "execution_count": 18,
     "metadata": {},
     "output_type": "execute_result"
    }
   ],
   "source": [
    "dict.get('key')"
   ]
  },
  {
   "cell_type": "code",
   "execution_count": 19,
   "metadata": {},
   "outputs": [
    {
     "name": "stdout",
     "output_type": "stream",
     "text": [
      "{'Paul': 90, 'Alice': 80, 'Bob': 'zero', 'key': 'value', 'John': 100}\n"
     ]
    }
   ],
   "source": [
    "dict['John'] = 100\n",
    "print (dict)"
   ]
  },
  {
   "cell_type": "code",
   "execution_count": 20,
   "metadata": {},
   "outputs": [
    {
     "data": {
      "text/plain": [
       "dict_keys(['Paul', 'Alice', 'Bob', 'key', 'John'])"
      ]
     },
     "execution_count": 20,
     "metadata": {},
     "output_type": "execute_result"
    }
   ],
   "source": [
    "dict.keys()"
   ]
  },
  {
   "cell_type": "code",
   "execution_count": 21,
   "metadata": {},
   "outputs": [
    {
     "data": {
      "text/plain": [
       "dict_values([90, 80, 'zero', 'value', 100])"
      ]
     },
     "execution_count": 21,
     "metadata": {},
     "output_type": "execute_result"
    }
   ],
   "source": [
    "dict.values()"
   ]
  },
  {
   "cell_type": "code",
   "execution_count": 22,
   "metadata": {},
   "outputs": [
    {
     "data": {
      "text/plain": [
       "True"
      ]
     },
     "execution_count": 22,
     "metadata": {},
     "output_type": "execute_result"
    }
   ],
   "source": [
    "'Paul' in dict.keys()  #how to traverse dictionary, \"in\""
   ]
  },
  {
   "cell_type": "code",
   "execution_count": 23,
   "metadata": {},
   "outputs": [
    {
     "name": "stdout",
     "output_type": "stream",
     "text": [
      "Paul\n",
      "Alice\n",
      "Bob\n",
      "key\n",
      "John\n"
     ]
    }
   ],
   "source": [
    "for key in dict.keys():\n",
    "    print (key)"
   ]
  },
  {
   "cell_type": "code",
   "execution_count": 24,
   "metadata": {},
   "outputs": [
    {
     "name": "stdout",
     "output_type": "stream",
     "text": [
      "Paul = 90\n",
      "Alice = 80\n",
      "Bob = zero\n",
      "key = value\n",
      "John = 100\n"
     ]
    }
   ],
   "source": [
    "for key in dict.keys():\n",
    "    print (key, '=', dict[key])"
   ]
  },
  {
   "cell_type": "markdown",
   "metadata": {},
   "source": [
    "### Fun Time 玩玩字典 ###"
   ]
  },
  {
   "cell_type": "markdown",
   "metadata": {},
   "source": [
    "### Fun Quiz 1 -  電子翻譯機 ###\n",
    "```\n",
    "有一個dictionary d = {'早上': 'morning', '下午': 'afternoon', '傍晚': 'evening', '夜間': 'night'}\n",
    "\n",
    "當輸入中文時，可以顯示翻譯出英文, 如:\n",
    "\n",
    "請輸入: 早上\n",
    "早上的英文是: morning\n",
    "```\n",
    "\n",
    "自己試試看喔\n",
    "\n",
    "------------------------------------"
   ]
  },
  {
   "cell_type": "code",
   "execution_count": 2,
   "metadata": {},
   "outputs": [
    {
     "name": "stdout",
     "output_type": "stream",
     "text": [
      "請輸入:早上\n",
      "早上的英文是: morning\n"
     ]
    }
   ],
   "source": [
    "d = {'早上': 'morning', '下午': 'afternoon', '傍晚': 'evening', '夜間': 'night'}\n",
    "\n",
    "key = input(\"請輸入:\")\n",
    "print(key+\"的英文是:\", d[key])"
   ]
  },
  {
   "cell_type": "markdown",
   "metadata": {},
   "source": [
    "# Assignment ##\n",
    "### 有一個dictionary d = {'1': 'morning', '2': 'afternoon', '3': 'evening', '4': 'night'}\n",
    "### 請想辦法印出:\n",
    "I like morning\n",
    "\n",
    "I like afternoon\n",
    "\n",
    "I like evening\n",
    "\n",
    "I like night\n",
    "\n",
    "#### https://repl.it/J8nQ/0 ####"
   ]
  },
  {
   "cell_type": "code",
   "execution_count": 2,
   "metadata": {
    "collapsed": true
   },
   "outputs": [],
   "source": [
    "d = {'1': 'morning', '2': 'afternoon', '3': 'evening', '4': 'night'}"
   ]
  },
  {
   "cell_type": "code",
   "execution_count": 3,
   "metadata": {
    "scrolled": false
   },
   "outputs": [
    {
     "name": "stdout",
     "output_type": "stream",
     "text": [
      "I like morning\n",
      "I like afternoon\n",
      "I like evening\n",
      "I like night\n"
     ]
    }
   ],
   "source": [
    "for key in d.keys():\n",
    "    print (\"I like\", d[key])"
   ]
  },
  {
   "cell_type": "markdown",
   "metadata": {},
   "source": [
    "### 用字典來製作井字遊戲 ###\n",
    "\n",
    "[repl.it](https://repl.it/@paulbroadmissio/dictionary-fun-tictactoe)"
   ]
  },
  {
   "cell_type": "code",
   "execution_count": 1,
   "metadata": {},
   "outputs": [
    {
     "name": "stdout",
     "output_type": "stream",
     "text": [
      "O 想下哪裡? 1\n",
      "O | 2 | 3\n",
      "4 | 5 | 6\n",
      "7 | 8 | 9\n",
      "X 想下哪裡? 2\n",
      "O | X | 3\n",
      "4 | 5 | 6\n",
      "7 | 8 | 9\n",
      "O 想下哪裡? 5\n",
      "O | X | 3\n",
      "4 | O | 6\n",
      "7 | 8 | 9\n",
      "X 想下哪裡? 8\n",
      "O | X | 3\n",
      "4 | O | 6\n",
      "7 | X | 9\n",
      "O 想下哪裡? 9\n",
      "O | X | 3\n",
      "4 | O | 6\n",
      "7 | X | O\n",
      "X 想下哪裡? \n",
      "O | X | 3\n",
      "4 | O | 6\n",
      "7 | X | O\n",
      "O 想下哪裡? \n",
      "O | X | 3\n",
      "4 | O | 6\n",
      "7 | X | O\n",
      "X 想下哪裡? 3\n",
      "O | X | X\n",
      "4 | O | 6\n",
      "7 | X | O\n",
      "O 想下哪裡? 6\n",
      "O | X | X\n",
      "4 | O | O\n",
      "7 | X | O\n",
      "X 想下哪裡? 4\n",
      "O | X | X\n",
      "X | O | O\n",
      "7 | X | O\n"
     ]
    }
   ],
   "source": [
    "import random\n",
    "d = {'1':'1', '2':'2', '3':'3', '4':'4', '5':'5', '6':'6', '7':'7', '8':'8', '9':'9'}\n",
    "\n",
    "def printBoard(board):\n",
    "    print(board['1'] + ' | ' + board['2'] + ' | ' + board['3'])\n",
    "    print(board['4'] + ' | ' + board['5'] + ' | ' + board['6'])\n",
    "    print(board['7'] + ' | ' + board['8'] + ' | ' + board['9'])\n",
    "\n",
    "i = 0\n",
    "while i<5:\n",
    "    i = i + 1\n",
    "    \n",
    "    o_go = input(\"O 想下哪裡? \")\n",
    "    d[o_go] = 'O'\n",
    "    printBoard(d)\n",
    "    \n",
    "    x_go = input(\"X 想下哪裡? \")\n",
    "    d[x_go] = 'X'\n",
    "    printBoard(d)"
   ]
  },
  {
   "cell_type": "markdown",
   "metadata": {},
   "source": [
    "## Bonus : pretty print data type ##\n",
    "#### https://repl.it/J8oK/0 ####"
   ]
  },
  {
   "cell_type": "code",
   "execution_count": 13,
   "metadata": {},
   "outputs": [
    {
     "name": "stdout",
     "output_type": "stream",
     "text": [
      "Only print-->\n",
      "{'1': 'morning', '2': 'afternoon', '3': 'evening', '4': 'night', '5': [1, 2, 3], '6': ['abc', 'bcd', '11110', 222]}\n",
      "Pretty print-->\n",
      "{   '1': 'morning',\n",
      "    '2': 'afternoon',\n",
      "    '3': 'evening',\n",
      "    '4': 'night',\n",
      "    '5': [1, 2, 3],\n",
      "    '6': ['abc', 'bcd', '11110', 222]}\n"
     ]
    }
   ],
   "source": [
    "import pprint\n",
    "pp = pprint.PrettyPrinter(indent=4)\n",
    "d = {'1': 'morning', '2': 'afternoon', '3': 'evening', '4': 'night', '5': [1,2,3], '6':['abc','bcd','11110',222]}\n",
    "\n",
    "print(\"Only print-->\")\n",
    "print(d)\n",
    "\n",
    "print(\"Pretty print-->\")\n",
    "pp.pprint(d)"
   ]
  },
  {
   "cell_type": "code",
   "execution_count": 14,
   "metadata": {},
   "outputs": [
    {
     "name": "stdout",
     "output_type": "stream",
     "text": [
      "Help on module pprint:\n",
      "\n",
      "NAME\n",
      "    pprint - Support to pretty-print lists, tuples, & dictionaries recursively.\n",
      "\n",
      "DESCRIPTION\n",
      "    Very simple, but useful, especially in debugging data structures.\n",
      "    \n",
      "    Classes\n",
      "    -------\n",
      "    \n",
      "    PrettyPrinter()\n",
      "        Handle pretty-printing operations onto a stream using a configured\n",
      "        set of formatting parameters.\n",
      "    \n",
      "    Functions\n",
      "    ---------\n",
      "    \n",
      "    pformat()\n",
      "        Format a Python object into a pretty-printed representation.\n",
      "    \n",
      "    pprint()\n",
      "        Pretty-print a Python object to a stream [default is sys.stdout].\n",
      "    \n",
      "    saferepr()\n",
      "        Generate a 'standard' repr()-like value, but protect against recursive\n",
      "        data structures.\n",
      "\n",
      "CLASSES\n",
      "    builtins.object\n",
      "        PrettyPrinter\n",
      "    \n",
      "    class PrettyPrinter(builtins.object)\n",
      "     |  Methods defined here:\n",
      "     |  \n",
      "     |  __init__(self, indent=1, width=80, depth=None, stream=None, *, compact=False)\n",
      "     |      Handle pretty printing operations onto a stream using a set of\n",
      "     |      configured parameters.\n",
      "     |      \n",
      "     |      indent\n",
      "     |          Number of spaces to indent for each level of nesting.\n",
      "     |      \n",
      "     |      width\n",
      "     |          Attempted maximum number of columns in the output.\n",
      "     |      \n",
      "     |      depth\n",
      "     |          The maximum depth to print out nested structures.\n",
      "     |      \n",
      "     |      stream\n",
      "     |          The desired output stream.  If omitted (or false), the standard\n",
      "     |          output stream available at construction will be used.\n",
      "     |      \n",
      "     |      compact\n",
      "     |          If true, several items will be combined in one line.\n",
      "     |  \n",
      "     |  format(self, object, context, maxlevels, level)\n",
      "     |      Format object for a specific context, returning a string\n",
      "     |      and flags indicating whether the representation is 'readable'\n",
      "     |      and whether the object represents a recursive construct.\n",
      "     |  \n",
      "     |  isreadable(self, object)\n",
      "     |  \n",
      "     |  isrecursive(self, object)\n",
      "     |  \n",
      "     |  pformat(self, object)\n",
      "     |  \n",
      "     |  pprint(self, object)\n",
      "     |  \n",
      "     |  ----------------------------------------------------------------------\n",
      "     |  Data descriptors defined here:\n",
      "     |  \n",
      "     |  __dict__\n",
      "     |      dictionary for instance variables (if defined)\n",
      "     |  \n",
      "     |  __weakref__\n",
      "     |      list of weak references to the object (if defined)\n",
      "\n",
      "FUNCTIONS\n",
      "    isreadable(object)\n",
      "        Determine if saferepr(object) is readable by eval().\n",
      "    \n",
      "    isrecursive(object)\n",
      "        Determine if object requires a recursive representation.\n",
      "    \n",
      "    pformat(object, indent=1, width=80, depth=None, *, compact=False)\n",
      "        Format a Python object into a pretty-printed representation.\n",
      "    \n",
      "    pprint(object, stream=None, indent=1, width=80, depth=None, *, compact=False)\n",
      "        Pretty-print a Python object to a stream [default is sys.stdout].\n",
      "    \n",
      "    saferepr(object)\n",
      "        Version of repr() which can handle recursive data structures.\n",
      "\n",
      "DATA\n",
      "    __all__ = ['pprint', 'pformat', 'isreadable', 'isrecursive', 'saferepr...\n",
      "\n",
      "FILE\n",
      "    c:\\users\\user\\anaconda3\\lib\\pprint.py\n",
      "\n",
      "\n"
     ]
    }
   ],
   "source": [
    "help(pprint)"
   ]
  }
 ],
 "metadata": {
  "kernelspec": {
   "display_name": "Python 3",
   "language": "python",
   "name": "python3"
  },
  "language_info": {
   "codemirror_mode": {
    "name": "ipython",
    "version": 3
   },
   "file_extension": ".py",
   "mimetype": "text/x-python",
   "name": "python",
   "nbconvert_exporter": "python",
   "pygments_lexer": "ipython3",
   "version": "3.6.2"
  }
 },
 "nbformat": 4,
 "nbformat_minor": 2
}
